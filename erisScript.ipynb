{
 "cells": [
  {
   "cell_type": "markdown",
   "id": "73907613",
   "metadata": {},
   "source": [
    "# Final Exam - Part B"
   ]
  },
  {
   "cell_type": "markdown",
   "id": "8d37db5c",
   "metadata": {},
   "source": [
    "## Done by ***Eris Leksi***"
   ]
  },
  {
   "cell_type": "markdown",
   "id": "a4026049",
   "metadata": {},
   "source": [
    "# CSCN 8000 — Customer Segmentation for E-commerce Personalization\n",
    "\n",
    "**Dataset Source:** Kaggle — E-commerce Customer Behavior  \n",
    "**Goal:** Cluster customers (using event logs) into behavior-based segments to enable personalized marketing.\n",
    "\n",
    "**Columns:**  \n",
    "1. `event_time` — timestamp of the event  \n",
    "2. `event_type` — {`view`, `cart`, `purchase`}  \n",
    "3. `product_id` — product identifier  \n",
    "4. `category_id` — product category id  \n",
    "5. `category_code` — taxonomy like `electronics.smartphone`  \n",
    "6. `brand` — product brand  \n",
    "7. `price` — item price at event time  \n",
    "8. `user_id` — user identifier  \n",
    "9. `user_session` — session identifier\n",
    "\n",
    "**Plan:**  \n",
    "1) Load & explore data → 2) Clean & engineer user features → 3) EDA → 4) Transform (scale, PCA) → 5) Choose k & cluster (K-Means) → 6) Interpret segments & suggest marketing actions.\n"
   ]
  },
  {
   "cell_type": "markdown",
   "id": "7d9bb5ea",
   "metadata": {},
   "source": [
    "Dataset: https://www.kaggle.com/datasets/mkechinov/ecommerce-behavior-data-from-multi-category-store?resource=download"
   ]
  },
  {
   "cell_type": "markdown",
   "id": "09899120",
   "metadata": {},
   "source": [
    "### 0. Importing the libraries"
   ]
  },
  {
   "cell_type": "code",
   "execution_count": 12,
   "id": "7af486e3",
   "metadata": {},
   "outputs": [
    {
     "name": "stdout",
     "output_type": "stream",
     "text": [
      "Libraries imported successfully.\n"
     ]
    }
   ],
   "source": [
    "import numpy as np\n",
    "import pandas as pd\n",
    "import matplotlib.pyplot as plt\n",
    "from collections import Counter\n",
    "\n",
    "from sklearn.preprocessing import StandardScaler\n",
    "from sklearn.decomposition import PCA\n",
    "from sklearn.cluster import MiniBatchKMeans\n",
    "from sklearn.metrics import silhouette_score, davies_bouldin_score\n",
    "from sklearn.cluster import KMeans\n",
    "\n",
    "print(\"Libraries imported successfully.\")"
   ]
  },
  {
   "cell_type": "markdown",
   "id": "fb4b622f",
   "metadata": {},
   "source": [
    "## Task 1 — Data Loading & Exploration"
   ]
  },
  {
   "cell_type": "markdown",
   "id": "62154e53",
   "metadata": {},
   "source": [
    "### Loading the datasets"
   ]
  },
  {
   "cell_type": "code",
   "execution_count": 3,
   "id": "aeb8ed14",
   "metadata": {},
   "outputs": [
    {
     "name": "stdout",
     "output_type": "stream",
     "text": [
      "df1 shape: (67501979, 9)\n",
      "df2 shape: (42448764, 9)\n"
     ]
    }
   ],
   "source": [
    "df1 = pd.read_csv(\"2019-Nov.csv\")\n",
    "df2 = pd.read_csv(\"2019-Oct.csv\")\n",
    "\n",
    "print(\"df1 shape:\", df1.shape)\n",
    "print(\"df2 shape:\", df2.shape)"
   ]
  },
  {
   "cell_type": "markdown",
   "id": "8bbba5f8",
   "metadata": {},
   "source": [
    "### Merging the dataframes"
   ]
  },
  {
   "cell_type": "code",
   "execution_count": 4,
   "id": "261f6137",
   "metadata": {},
   "outputs": [
    {
     "name": "stdout",
     "output_type": "stream",
     "text": [
      "merged shape: (109950743, 9)\n"
     ]
    },
    {
     "data": {
      "application/vnd.microsoft.datawrangler.viewer.v0+json": {
       "columns": [
        {
         "name": "index",
         "rawType": "int64",
         "type": "integer"
        },
        {
         "name": "event_time",
         "rawType": "object",
         "type": "string"
        },
        {
         "name": "event_type",
         "rawType": "object",
         "type": "string"
        },
        {
         "name": "product_id",
         "rawType": "int64",
         "type": "integer"
        },
        {
         "name": "category_id",
         "rawType": "int64",
         "type": "integer"
        },
        {
         "name": "category_code",
         "rawType": "object",
         "type": "unknown"
        },
        {
         "name": "brand",
         "rawType": "object",
         "type": "string"
        },
        {
         "name": "price",
         "rawType": "float64",
         "type": "float"
        },
        {
         "name": "user_id",
         "rawType": "int64",
         "type": "integer"
        },
        {
         "name": "user_session",
         "rawType": "object",
         "type": "string"
        }
       ],
       "ref": "6dd77691-c753-4e48-8de4-afccfed63c9e",
       "rows": [
        [
         "0",
         "2019-11-01 00:00:00 UTC",
         "view",
         "1003461",
         "2053013555631882655",
         "electronics.smartphone",
         "xiaomi",
         "489.07",
         "520088904",
         "4d3b30da-a5e4-49df-b1a8-ba5943f1dd33"
        ],
        [
         "1",
         "2019-11-01 00:00:00 UTC",
         "view",
         "5000088",
         "2053013566100866035",
         "appliances.sewing_machine",
         "janome",
         "293.65",
         "530496790",
         "8e5f4f83-366c-4f70-860e-ca7417414283"
        ],
        [
         "2",
         "2019-11-01 00:00:01 UTC",
         "view",
         "17302664",
         "2053013553853497655",
         null,
         "creed",
         "28.31",
         "561587266",
         "755422e7-9040-477b-9bd2-6a6e8fd97387"
        ],
        [
         "3",
         "2019-11-01 00:00:01 UTC",
         "view",
         "3601530",
         "2053013563810775923",
         "appliances.kitchen.washer",
         "lg",
         "712.87",
         "518085591",
         "3bfb58cd-7892-48cc-8020-2f17e6de6e7f"
        ],
        [
         "4",
         "2019-11-01 00:00:01 UTC",
         "view",
         "1004775",
         "2053013555631882655",
         "electronics.smartphone",
         "xiaomi",
         "183.27",
         "558856683",
         "313628f1-68b8-460d-84f6-cec7a8796ef2"
        ]
       ],
       "shape": {
        "columns": 9,
        "rows": 5
       }
      },
      "text/html": [
       "<div>\n",
       "<style scoped>\n",
       "    .dataframe tbody tr th:only-of-type {\n",
       "        vertical-align: middle;\n",
       "    }\n",
       "\n",
       "    .dataframe tbody tr th {\n",
       "        vertical-align: top;\n",
       "    }\n",
       "\n",
       "    .dataframe thead th {\n",
       "        text-align: right;\n",
       "    }\n",
       "</style>\n",
       "<table border=\"1\" class=\"dataframe\">\n",
       "  <thead>\n",
       "    <tr style=\"text-align: right;\">\n",
       "      <th></th>\n",
       "      <th>event_time</th>\n",
       "      <th>event_type</th>\n",
       "      <th>product_id</th>\n",
       "      <th>category_id</th>\n",
       "      <th>category_code</th>\n",
       "      <th>brand</th>\n",
       "      <th>price</th>\n",
       "      <th>user_id</th>\n",
       "      <th>user_session</th>\n",
       "    </tr>\n",
       "  </thead>\n",
       "  <tbody>\n",
       "    <tr>\n",
       "      <th>0</th>\n",
       "      <td>2019-11-01 00:00:00 UTC</td>\n",
       "      <td>view</td>\n",
       "      <td>1003461</td>\n",
       "      <td>2053013555631882655</td>\n",
       "      <td>electronics.smartphone</td>\n",
       "      <td>xiaomi</td>\n",
       "      <td>489.07</td>\n",
       "      <td>520088904</td>\n",
       "      <td>4d3b30da-a5e4-49df-b1a8-ba5943f1dd33</td>\n",
       "    </tr>\n",
       "    <tr>\n",
       "      <th>1</th>\n",
       "      <td>2019-11-01 00:00:00 UTC</td>\n",
       "      <td>view</td>\n",
       "      <td>5000088</td>\n",
       "      <td>2053013566100866035</td>\n",
       "      <td>appliances.sewing_machine</td>\n",
       "      <td>janome</td>\n",
       "      <td>293.65</td>\n",
       "      <td>530496790</td>\n",
       "      <td>8e5f4f83-366c-4f70-860e-ca7417414283</td>\n",
       "    </tr>\n",
       "    <tr>\n",
       "      <th>2</th>\n",
       "      <td>2019-11-01 00:00:01 UTC</td>\n",
       "      <td>view</td>\n",
       "      <td>17302664</td>\n",
       "      <td>2053013553853497655</td>\n",
       "      <td>NaN</td>\n",
       "      <td>creed</td>\n",
       "      <td>28.31</td>\n",
       "      <td>561587266</td>\n",
       "      <td>755422e7-9040-477b-9bd2-6a6e8fd97387</td>\n",
       "    </tr>\n",
       "    <tr>\n",
       "      <th>3</th>\n",
       "      <td>2019-11-01 00:00:01 UTC</td>\n",
       "      <td>view</td>\n",
       "      <td>3601530</td>\n",
       "      <td>2053013563810775923</td>\n",
       "      <td>appliances.kitchen.washer</td>\n",
       "      <td>lg</td>\n",
       "      <td>712.87</td>\n",
       "      <td>518085591</td>\n",
       "      <td>3bfb58cd-7892-48cc-8020-2f17e6de6e7f</td>\n",
       "    </tr>\n",
       "    <tr>\n",
       "      <th>4</th>\n",
       "      <td>2019-11-01 00:00:01 UTC</td>\n",
       "      <td>view</td>\n",
       "      <td>1004775</td>\n",
       "      <td>2053013555631882655</td>\n",
       "      <td>electronics.smartphone</td>\n",
       "      <td>xiaomi</td>\n",
       "      <td>183.27</td>\n",
       "      <td>558856683</td>\n",
       "      <td>313628f1-68b8-460d-84f6-cec7a8796ef2</td>\n",
       "    </tr>\n",
       "  </tbody>\n",
       "</table>\n",
       "</div>"
      ],
      "text/plain": [
       "                event_time event_type  product_id          category_id  \\\n",
       "0  2019-11-01 00:00:00 UTC       view     1003461  2053013555631882655   \n",
       "1  2019-11-01 00:00:00 UTC       view     5000088  2053013566100866035   \n",
       "2  2019-11-01 00:00:01 UTC       view    17302664  2053013553853497655   \n",
       "3  2019-11-01 00:00:01 UTC       view     3601530  2053013563810775923   \n",
       "4  2019-11-01 00:00:01 UTC       view     1004775  2053013555631882655   \n",
       "\n",
       "               category_code   brand   price    user_id  \\\n",
       "0     electronics.smartphone  xiaomi  489.07  520088904   \n",
       "1  appliances.sewing_machine  janome  293.65  530496790   \n",
       "2                        NaN   creed   28.31  561587266   \n",
       "3  appliances.kitchen.washer      lg  712.87  518085591   \n",
       "4     electronics.smartphone  xiaomi  183.27  558856683   \n",
       "\n",
       "                           user_session  \n",
       "0  4d3b30da-a5e4-49df-b1a8-ba5943f1dd33  \n",
       "1  8e5f4f83-366c-4f70-860e-ca7417414283  \n",
       "2  755422e7-9040-477b-9bd2-6a6e8fd97387  \n",
       "3  3bfb58cd-7892-48cc-8020-2f17e6de6e7f  \n",
       "4  313628f1-68b8-460d-84f6-cec7a8796ef2  "
      ]
     },
     "execution_count": 4,
     "metadata": {},
     "output_type": "execute_result"
    }
   ],
   "source": [
    "df_merged = pd.concat([df1, df2], ignore_index=True)\n",
    "\n",
    "print(\"merged shape:\", df_merged.shape)\n",
    "df_merged.head()"
   ]
  },
  {
   "cell_type": "markdown",
   "id": "bfc15a3b",
   "metadata": {},
   "source": [
    "### Events"
   ]
  },
  {
   "cell_type": "code",
   "execution_count": 5,
   "id": "ce22eafa",
   "metadata": {},
   "outputs": [
    {
     "name": "stdout",
     "output_type": "stream",
     "text": [
      "event_type\n",
      "view        104335509\n",
      "cart          3955446\n",
      "purchase      1659788\n",
      "Name: count, dtype: int64\n"
     ]
    },
    {
     "data": {
      "image/png": "[encoded data removed]",
      "text/plain": [
       "<Figure size 600x400 with 1 Axes>"
      ]
     },
     "metadata": {},
     "output_type": "display_data"
    },
    {
     "data": {
      "image/png": "[encoded data removed]",
      "text/plain": [
       "<Figure size 1000x400 with 1 Axes>"
      ]
     },
     "metadata": {},
     "output_type": "display_data"
    }
   ],
   "source": [
    "evt_counts = df_merged[\"event_type\"].value_counts()\n",
    "print(evt_counts)\n",
    "\n",
    "plt.figure(figsize=(6,4))\n",
    "evt_counts.plot(kind=\"bar\")\n",
    "plt.title(\"Event Type Distribution\")\n",
    "plt.xlabel(\"event_type\"); plt.ylabel(\"count\")\n",
    "plt.tight_layout(); plt.show()\n",
    "\n",
    "# top categories\n",
    "top_cats = df_merged[\"category_code\"].value_counts().head(15)\n",
    "plt.figure(figsize=(10,4))\n",
    "top_cats.plot(kind=\"bar\")\n",
    "plt.title(\"Top 15 category_code by events\")\n",
    "plt.xlabel(\"category_code\"); plt.ylabel(\"count\")\n",
    "plt.tight_layout(); plt.show()\n"
   ]
  },
  {
   "cell_type": "markdown",
   "id": "7bfde411",
   "metadata": {},
   "source": [
    "### Task 1 — Answers\n",
    "\n",
    "- **Total events:** 109,950,743\n",
    "- **Event types present:** `view`, `cart`, `purchase`\n",
    "- **Distribution (count · % of total):**\n",
    "  - **view:** 104,335,509 · **94.89%**\n",
    "  - **cart:** 3,955,446 · **3.60%**\n",
    "  - **purchase:** 1,659,788 · **1.51%**\n",
    "\n",
    "**Quick funnel check (overall):**\n",
    "- view → cart rate ≈ **3.79%** (3,955,446 / 104,335,509)\n",
    "- cart → purchase rate ≈ **41.96%** (1,659,788 / 3,955,446)\n",
    "- view → purchase conversion ≈ **1.59%** (1,659,788 / 104,335,509)\n",
    "\n",
    "These figures show a classic ecommerce funnel: many views, fewer carts, and the fewest purchases.\n"
   ]
  },
  {
   "cell_type": "markdown",
   "id": "163e76e5",
   "metadata": {},
   "source": [
    "## Task 2 — Data Preprocessing & Feature Engineering"
   ]
  },
  {
   "cell_type": "markdown",
   "id": "d64b68cb",
   "metadata": {},
   "source": [
    "### Missing values check + clear handling"
   ]
  },
  {
   "cell_type": "code",
   "execution_count": 6,
   "id": "91cf03f4",
   "metadata": {},
   "outputs": [
    {
     "name": "stdout",
     "output_type": "stream",
     "text": [
      "BEFORE cleaning — .isnull().sum() (top 15):\n",
      "category_code    35413780\n",
      "brand            15341158\n",
      "user_session           12\n",
      "event_time              0\n",
      "event_type              0\n",
      "product_id              0\n",
      "category_id             0\n",
      "price                   0\n",
      "user_id                 0\n",
      "Name: missing_count, dtype: int64\n"
     ]
    },
    {
     "data": {
      "application/vnd.microsoft.datawrangler.viewer.v0+json": {
       "columns": [
        {
         "name": "index",
         "rawType": "object",
         "type": "string"
        },
        {
         "name": "missing_count",
         "rawType": "int64",
         "type": "integer"
        },
        {
         "name": "missing_fraction",
         "rawType": "float64",
         "type": "float"
        }
       ],
       "ref": "3dd0f67f-486a-4039-93c2-bbb9866fb909",
       "rows": [
        [
         "category_code",
         "35413780",
         "32.21"
        ],
        [
         "brand",
         "15341158",
         "13.95"
        ],
        [
         "user_session",
         "12",
         "0.0"
        ],
        [
         "event_time",
         "0",
         "0.0"
        ],
        [
         "event_type",
         "0",
         "0.0"
        ],
        [
         "product_id",
         "0",
         "0.0"
        ],
        [
         "category_id",
         "0",
         "0.0"
        ],
        [
         "price",
         "0",
         "0.0"
        ],
        [
         "user_id",
         "0",
         "0.0"
        ]
       ],
       "shape": {
        "columns": 2,
        "rows": 9
       }
      },
      "text/html": [
       "<div>\n",
       "<style scoped>\n",
       "    .dataframe tbody tr th:only-of-type {\n",
       "        vertical-align: middle;\n",
       "    }\n",
       "\n",
       "    .dataframe tbody tr th {\n",
       "        vertical-align: top;\n",
       "    }\n",
       "\n",
       "    .dataframe thead th {\n",
       "        text-align: right;\n",
       "    }\n",
       "</style>\n",
       "<table border=\"1\" class=\"dataframe\">\n",
       "  <thead>\n",
       "    <tr style=\"text-align: right;\">\n",
       "      <th></th>\n",
       "      <th>missing_count</th>\n",
       "      <th>missing_fraction</th>\n",
       "    </tr>\n",
       "  </thead>\n",
       "  <tbody>\n",
       "    <tr>\n",
       "      <th>category_code</th>\n",
       "      <td>35413780</td>\n",
       "      <td>32.21</td>\n",
       "    </tr>\n",
       "    <tr>\n",
       "      <th>brand</th>\n",
       "      <td>15341158</td>\n",
       "      <td>13.95</td>\n",
       "    </tr>\n",
       "    <tr>\n",
       "      <th>user_session</th>\n",
       "      <td>12</td>\n",
       "      <td>0.00</td>\n",
       "    </tr>\n",
       "    <tr>\n",
       "      <th>event_time</th>\n",
       "      <td>0</td>\n",
       "      <td>0.00</td>\n",
       "    </tr>\n",
       "    <tr>\n",
       "      <th>event_type</th>\n",
       "      <td>0</td>\n",
       "      <td>0.00</td>\n",
       "    </tr>\n",
       "    <tr>\n",
       "      <th>product_id</th>\n",
       "      <td>0</td>\n",
       "      <td>0.00</td>\n",
       "    </tr>\n",
       "    <tr>\n",
       "      <th>category_id</th>\n",
       "      <td>0</td>\n",
       "      <td>0.00</td>\n",
       "    </tr>\n",
       "    <tr>\n",
       "      <th>price</th>\n",
       "      <td>0</td>\n",
       "      <td>0.00</td>\n",
       "    </tr>\n",
       "    <tr>\n",
       "      <th>user_id</th>\n",
       "      <td>0</td>\n",
       "      <td>0.00</td>\n",
       "    </tr>\n",
       "  </tbody>\n",
       "</table>\n",
       "</div>"
      ],
      "text/plain": [
       "               missing_count  missing_fraction\n",
       "category_code       35413780             32.21\n",
       "brand               15341158             13.95\n",
       "user_session              12              0.00\n",
       "event_time                 0              0.00\n",
       "event_type                 0              0.00\n",
       "product_id                 0              0.00\n",
       "category_id                0              0.00\n",
       "price                      0              0.00\n",
       "user_id                    0              0.00"
      ]
     },
     "metadata": {},
     "output_type": "display_data"
    },
    {
     "name": "stdout",
     "output_type": "stream",
     "text": [
      "\n",
      "AFTER cleaning — .isnull().sum() (top 15):\n",
      "user_session     12\n",
      "event_time        0\n",
      "event_type        0\n",
      "product_id        0\n",
      "category_id       0\n",
      "category_code     0\n",
      "brand             0\n",
      "price             0\n",
      "user_id           0\n",
      "Name: missing_count, dtype: int64\n"
     ]
    },
    {
     "data": {
      "application/vnd.microsoft.datawrangler.viewer.v0+json": {
       "columns": [
        {
         "name": "index",
         "rawType": "object",
         "type": "string"
        },
        {
         "name": "missing_count",
         "rawType": "int64",
         "type": "integer"
        },
        {
         "name": "missing_fraction",
         "rawType": "float64",
         "type": "float"
        }
       ],
       "ref": "d27c610e-bc4f-4439-8b16-3724eafaa582",
       "rows": [
        [
         "user_session",
         "12",
         "0.0"
        ],
        [
         "event_time",
         "0",
         "0.0"
        ],
        [
         "event_type",
         "0",
         "0.0"
        ],
        [
         "product_id",
         "0",
         "0.0"
        ],
        [
         "category_id",
         "0",
         "0.0"
        ],
        [
         "category_code",
         "0",
         "0.0"
        ],
        [
         "brand",
         "0",
         "0.0"
        ],
        [
         "price",
         "0",
         "0.0"
        ],
        [
         "user_id",
         "0",
         "0.0"
        ]
       ],
       "shape": {
        "columns": 2,
        "rows": 9
       }
      },
      "text/html": [
       "<div>\n",
       "<style scoped>\n",
       "    .dataframe tbody tr th:only-of-type {\n",
       "        vertical-align: middle;\n",
       "    }\n",
       "\n",
       "    .dataframe tbody tr th {\n",
       "        vertical-align: top;\n",
       "    }\n",
       "\n",
       "    .dataframe thead th {\n",
       "        text-align: right;\n",
       "    }\n",
       "</style>\n",
       "<table border=\"1\" class=\"dataframe\">\n",
       "  <thead>\n",
       "    <tr style=\"text-align: right;\">\n",
       "      <th></th>\n",
       "      <th>missing_count</th>\n",
       "      <th>missing_fraction</th>\n",
       "    </tr>\n",
       "  </thead>\n",
       "  <tbody>\n",
       "    <tr>\n",
       "      <th>user_session</th>\n",
       "      <td>12</td>\n",
       "      <td>0.0</td>\n",
       "    </tr>\n",
       "    <tr>\n",
       "      <th>event_time</th>\n",
       "      <td>0</td>\n",
       "      <td>0.0</td>\n",
       "    </tr>\n",
       "    <tr>\n",
       "      <th>event_type</th>\n",
       "      <td>0</td>\n",
       "      <td>0.0</td>\n",
       "    </tr>\n",
       "    <tr>\n",
       "      <th>product_id</th>\n",
       "      <td>0</td>\n",
       "      <td>0.0</td>\n",
       "    </tr>\n",
       "    <tr>\n",
       "      <th>category_id</th>\n",
       "      <td>0</td>\n",
       "      <td>0.0</td>\n",
       "    </tr>\n",
       "    <tr>\n",
       "      <th>category_code</th>\n",
       "      <td>0</td>\n",
       "      <td>0.0</td>\n",
       "    </tr>\n",
       "    <tr>\n",
       "      <th>brand</th>\n",
       "      <td>0</td>\n",
       "      <td>0.0</td>\n",
       "    </tr>\n",
       "    <tr>\n",
       "      <th>price</th>\n",
       "      <td>0</td>\n",
       "      <td>0.0</td>\n",
       "    </tr>\n",
       "    <tr>\n",
       "      <th>user_id</th>\n",
       "      <td>0</td>\n",
       "      <td>0.0</td>\n",
       "    </tr>\n",
       "  </tbody>\n",
       "</table>\n",
       "</div>"
      ],
      "text/plain": [
       "               missing_count  missing_fraction\n",
       "user_session              12               0.0\n",
       "event_time                 0               0.0\n",
       "event_type                 0               0.0\n",
       "product_id                 0               0.0\n",
       "category_id                0               0.0\n",
       "category_code              0               0.0\n",
       "brand                      0               0.0\n",
       "price                      0               0.0\n",
       "user_id                    0               0.0"
      ]
     },
     "metadata": {},
     "output_type": "display_data"
    },
    {
     "name": "stdout",
     "output_type": "stream",
     "text": [
      "\n",
      "Rows before: 109,950,743\n",
      "Dropped rows missing [user_id or event_time]: 0 (0.00%)\n",
      "Rows after: 109,950,743\n",
      "Filled 'category_code'/'brand' with 'unknown' (if present).\n"
     ]
    }
   ],
   "source": [
    "df_raw = df_merged.copy()\n",
    "missing_before = pd.DataFrame({\n",
    "    \"missing_count\": df_raw.isnull().sum(),\n",
    "    \"missing_fraction\": (df_raw.isnull().mean() * 100).round(2)\n",
    "}).sort_values(\"missing_count\", ascending=False)\n",
    "\n",
    "print(\"BEFORE cleaning — .isnull().sum() (top 15):\")\n",
    "print(missing_before[\"missing_count\"].head(15))\n",
    "display(missing_before.head(15))\n",
    "\n",
    "\n",
    "n_rows_before = len(df_raw)\n",
    "\n",
    "# 1) Parse event_time\n",
    "df_raw[\"event_time\"] = pd.to_datetime(df_raw.get(\"event_time\"), errors=\"coerce\", utc=True)\n",
    "\n",
    "# 2) Fill categoricals used later\n",
    "for col in (\"category_code\", \"brand\"):\n",
    "    if col in df_raw.columns:\n",
    "        df_raw[col] = df_raw[col].fillna(\"unknown\")\n",
    "\n",
    "# 3) Drop rows missing critical keys\n",
    "crit_cols = [c for c in [\"user_id\", \"event_time\"] if c in df_raw.columns]\n",
    "crit_missing_mask = df_raw[crit_cols].isnull().any(axis=1)\n",
    "n_dropped = int(crit_missing_mask.sum())\n",
    "\n",
    "df_clean = (\n",
    "    df_raw.loc[~crit_missing_mask]\n",
    "          .sort_values(\"event_time\")\n",
    "          .reset_index(drop=True)\n",
    ")\n",
    "\n",
    "# Assign back so the cleaned frame is used next\n",
    "df_merged = df_clean\n",
    "\n",
    "# ----- AFTER: missingness overview -----\n",
    "missing_after = pd.DataFrame({\n",
    "    \"missing_count\": df_merged.isnull().sum(),\n",
    "    \"missing_fraction\": (df_merged.isnull().mean() * 100).round(2)\n",
    "}).sort_values(\"missing_count\", ascending=False)\n",
    "\n",
    "print(\"\\nAFTER cleaning — .isnull().sum() (top 15):\")\n",
    "print(missing_after[\"missing_count\"].head(15))\n",
    "display(missing_after.head(15))\n",
    "\n",
    "# ----- Summary -----\n",
    "print(\n",
    "    f\"\\nRows before: {n_rows_before:,}\"\n",
    "    f\"\\nDropped rows missing [user_id or event_time]: {n_dropped:,} \"\n",
    "    f\"({(n_dropped / n_rows_before * 100):.2f}%)\"\n",
    "    f\"\\nRows after: {len(df_merged):,}\"\n",
    "    f\"\\nFilled 'category_code'/'brand' with 'unknown' (if present).\"\n",
    ")\n"
   ]
  },
  {
   "cell_type": "markdown",
   "id": "f44823bc",
   "metadata": {},
   "source": [
    "### Engineer Simple, Useful Customer Features"
   ]
  },
  {
   "cell_type": "code",
   "execution_count": 7,
   "id": "f72f709c",
   "metadata": {},
   "outputs": [
    {
     "name": "stdout",
     "output_type": "stream",
     "text": [
      "User feature table shape: (5316649, 15)\n"
     ]
    },
    {
     "data": {
      "application/vnd.microsoft.datawrangler.viewer.v0+json": {
       "columns": [
        {
         "name": "user_id",
         "rawType": "int64",
         "type": "integer"
        },
        {
         "name": "total_events",
         "rawType": "int64",
         "type": "integer"
        },
        {
         "name": "n_view",
         "rawType": "int64",
         "type": "integer"
        },
        {
         "name": "n_cart",
         "rawType": "int64",
         "type": "integer"
        },
        {
         "name": "n_purchase",
         "rawType": "int64",
         "type": "integer"
        },
        {
         "name": "n_sessions",
         "rawType": "int64",
         "type": "integer"
        },
        {
         "name": "unique_products",
         "rawType": "int64",
         "type": "integer"
        },
        {
         "name": "unique_categories",
         "rawType": "int64",
         "type": "integer"
        },
        {
         "name": "unique_brands",
         "rawType": "int64",
         "type": "integer"
        },
        {
         "name": "revenue",
         "rawType": "float64",
         "type": "float"
        },
        {
         "name": "avg_price_purchased",
         "rawType": "float64",
         "type": "float"
        },
        {
         "name": "recency_days",
         "rawType": "int64",
         "type": "integer"
        },
        {
         "name": "tenure_days",
         "rawType": "int64",
         "type": "integer"
        },
        {
         "name": "conversion_rate",
         "rawType": "float64",
         "type": "float"
        },
        {
         "name": "view_to_cart_rate",
         "rawType": "float64",
         "type": "float"
        },
        {
         "name": "cart_to_purchase_rate",
         "rawType": "float64",
         "type": "float"
        }
       ],
       "ref": "fc87640c-9e23-45ba-b702-9f0f66c99c58",
       "rows": [
        [
         "10300217",
         "1",
         "1",
         "0",
         "0",
         "1",
         "1",
         "1",
         "1",
         "0.0",
         "0.0",
         "24",
         "0",
         "0.0",
         "0.0",
         "0.0"
        ],
        [
         "29515875",
         "11",
         "11",
         "0",
         "0",
         "7",
         "5",
         "2",
         "5",
         "0.0",
         "0.0",
         "10",
         "10",
         "0.0",
         "0.0",
         "0.0"
        ],
        [
         "31198833",
         "20",
         "20",
         "0",
         "0",
         "4",
         "18",
         "3",
         "5",
         "0.0",
         "0.0",
         "11",
         "10",
         "0.0",
         "0.0",
         "0.0"
        ],
        [
         "33869381",
         "1",
         "1",
         "0",
         "0",
         "1",
         "1",
         "1",
         "1",
         "0.0",
         "0.0",
         "38",
         "0",
         "0.0",
         "0.0",
         "0.0"
        ],
        [
         "34916060",
         "1",
         "1",
         "0",
         "0",
         "1",
         "1",
         "1",
         "1",
         "0.0",
         "0.0",
         "6",
         "0",
         "0.0",
         "0.0",
         "0.0"
        ]
       ],
       "shape": {
        "columns": 15,
        "rows": 5
       }
      },
      "text/html": [
       "<div>\n",
       "<style scoped>\n",
       "    .dataframe tbody tr th:only-of-type {\n",
       "        vertical-align: middle;\n",
       "    }\n",
       "\n",
       "    .dataframe tbody tr th {\n",
       "        vertical-align: top;\n",
       "    }\n",
       "\n",
       "    .dataframe thead th {\n",
       "        text-align: right;\n",
       "    }\n",
       "</style>\n",
       "<table border=\"1\" class=\"dataframe\">\n",
       "  <thead>\n",
       "    <tr style=\"text-align: right;\">\n",
       "      <th></th>\n",
       "      <th>total_events</th>\n",
       "      <th>n_view</th>\n",
       "      <th>n_cart</th>\n",
       "      <th>n_purchase</th>\n",
       "      <th>n_sessions</th>\n",
       "      <th>unique_products</th>\n",
       "      <th>unique_categories</th>\n",
       "      <th>unique_brands</th>\n",
       "      <th>revenue</th>\n",
       "      <th>avg_price_purchased</th>\n",
       "      <th>recency_days</th>\n",
       "      <th>tenure_days</th>\n",
       "      <th>conversion_rate</th>\n",
       "      <th>view_to_cart_rate</th>\n",
       "      <th>cart_to_purchase_rate</th>\n",
       "    </tr>\n",
       "    <tr>\n",
       "      <th>user_id</th>\n",
       "      <th></th>\n",
       "      <th></th>\n",
       "      <th></th>\n",
       "      <th></th>\n",
       "      <th></th>\n",
       "      <th></th>\n",
       "      <th></th>\n",
       "      <th></th>\n",
       "      <th></th>\n",
       "      <th></th>\n",
       "      <th></th>\n",
       "      <th></th>\n",
       "      <th></th>\n",
       "      <th></th>\n",
       "      <th></th>\n",
       "    </tr>\n",
       "  </thead>\n",
       "  <tbody>\n",
       "    <tr>\n",
       "      <th>10300217</th>\n",
       "      <td>1</td>\n",
       "      <td>1</td>\n",
       "      <td>0</td>\n",
       "      <td>0</td>\n",
       "      <td>1</td>\n",
       "      <td>1</td>\n",
       "      <td>1</td>\n",
       "      <td>1</td>\n",
       "      <td>0.0</td>\n",
       "      <td>0.0</td>\n",
       "      <td>24</td>\n",
       "      <td>0</td>\n",
       "      <td>0.0</td>\n",
       "      <td>0.0</td>\n",
       "      <td>0.0</td>\n",
       "    </tr>\n",
       "    <tr>\n",
       "      <th>29515875</th>\n",
       "      <td>11</td>\n",
       "      <td>11</td>\n",
       "      <td>0</td>\n",
       "      <td>0</td>\n",
       "      <td>7</td>\n",
       "      <td>5</td>\n",
       "      <td>2</td>\n",
       "      <td>5</td>\n",
       "      <td>0.0</td>\n",
       "      <td>0.0</td>\n",
       "      <td>10</td>\n",
       "      <td>10</td>\n",
       "      <td>0.0</td>\n",
       "      <td>0.0</td>\n",
       "      <td>0.0</td>\n",
       "    </tr>\n",
       "    <tr>\n",
       "      <th>31198833</th>\n",
       "      <td>20</td>\n",
       "      <td>20</td>\n",
       "      <td>0</td>\n",
       "      <td>0</td>\n",
       "      <td>4</td>\n",
       "      <td>18</td>\n",
       "      <td>3</td>\n",
       "      <td>5</td>\n",
       "      <td>0.0</td>\n",
       "      <td>0.0</td>\n",
       "      <td>11</td>\n",
       "      <td>10</td>\n",
       "      <td>0.0</td>\n",
       "      <td>0.0</td>\n",
       "      <td>0.0</td>\n",
       "    </tr>\n",
       "    <tr>\n",
       "      <th>33869381</th>\n",
       "      <td>1</td>\n",
       "      <td>1</td>\n",
       "      <td>0</td>\n",
       "      <td>0</td>\n",
       "      <td>1</td>\n",
       "      <td>1</td>\n",
       "      <td>1</td>\n",
       "      <td>1</td>\n",
       "      <td>0.0</td>\n",
       "      <td>0.0</td>\n",
       "      <td>38</td>\n",
       "      <td>0</td>\n",
       "      <td>0.0</td>\n",
       "      <td>0.0</td>\n",
       "      <td>0.0</td>\n",
       "    </tr>\n",
       "    <tr>\n",
       "      <th>34916060</th>\n",
       "      <td>1</td>\n",
       "      <td>1</td>\n",
       "      <td>0</td>\n",
       "      <td>0</td>\n",
       "      <td>1</td>\n",
       "      <td>1</td>\n",
       "      <td>1</td>\n",
       "      <td>1</td>\n",
       "      <td>0.0</td>\n",
       "      <td>0.0</td>\n",
       "      <td>6</td>\n",
       "      <td>0</td>\n",
       "      <td>0.0</td>\n",
       "      <td>0.0</td>\n",
       "      <td>0.0</td>\n",
       "    </tr>\n",
       "  </tbody>\n",
       "</table>\n",
       "</div>"
      ],
      "text/plain": [
       "          total_events  n_view  n_cart  n_purchase  n_sessions  \\\n",
       "user_id                                                          \n",
       "10300217             1       1       0           0           1   \n",
       "29515875            11      11       0           0           7   \n",
       "31198833            20      20       0           0           4   \n",
       "33869381             1       1       0           0           1   \n",
       "34916060             1       1       0           0           1   \n",
       "\n",
       "          unique_products  unique_categories  unique_brands  revenue  \\\n",
       "user_id                                                                \n",
       "10300217                1                  1              1      0.0   \n",
       "29515875                5                  2              5      0.0   \n",
       "31198833               18                  3              5      0.0   \n",
       "33869381                1                  1              1      0.0   \n",
       "34916060                1                  1              1      0.0   \n",
       "\n",
       "          avg_price_purchased  recency_days  tenure_days  conversion_rate  \\\n",
       "user_id                                                                     \n",
       "10300217                  0.0            24            0              0.0   \n",
       "29515875                  0.0            10           10              0.0   \n",
       "31198833                  0.0            11           10              0.0   \n",
       "33869381                  0.0            38            0              0.0   \n",
       "34916060                  0.0             6            0              0.0   \n",
       "\n",
       "          view_to_cart_rate  cart_to_purchase_rate  \n",
       "user_id                                             \n",
       "10300217                0.0                    0.0  \n",
       "29515875                0.0                    0.0  \n",
       "31198833                0.0                    0.0  \n",
       "33869381                0.0                    0.0  \n",
       "34916060                0.0                    0.0  "
      ]
     },
     "execution_count": 7,
     "metadata": {},
     "output_type": "execute_result"
    }
   ],
   "source": [
    "# Helper for safe division\n",
    "def sdiv(a, b):\n",
    "    try:\n",
    "        return float(a)/float(b) if b and b != 0 else 0.0\n",
    "    except Exception:\n",
    "        return 0.0\n",
    "\n",
    "# Split for price stats\n",
    "df_view = df_merged[df_merged[\"event_type\"] == \"view\"]\n",
    "df_cart = df_merged[df_merged[\"event_type\"] == \"cart\"]\n",
    "df_buy  = df_merged[df_merged[\"event_type\"] == \"purchase\"]\n",
    "\n",
    "# Base counts per user\n",
    "base = df_merged.groupby(\"user_id\").size().rename(\"total_events\")\n",
    "\n",
    "# Per-event-type counts\n",
    "evt = df_merged.groupby([\"user_id\",\"event_type\"]).size().unstack(fill_value=0)\n",
    "for c in [\"view\",\"cart\",\"purchase\"]:\n",
    "    if c not in evt.columns: evt[c] = 0\n",
    "evt = evt[[\"view\",\"cart\",\"purchase\"]].rename(columns={\"view\":\"n_view\",\"cart\":\"n_cart\",\"purchase\":\"n_purchase\"})\n",
    "\n",
    "# Sessions & uniques\n",
    "n_sessions = df_merged.groupby(\"user_id\")[\"user_session\"].nunique().rename(\"n_sessions\")\n",
    "uniq = df_merged.groupby(\"user_id\").agg(\n",
    "    unique_products=(\"product_id\",\"nunique\"),\n",
    "    unique_categories=(\"category_code\",\"nunique\"),\n",
    "    unique_brands=(\"brand\",\"nunique\")\n",
    ")\n",
    "\n",
    "# Monetary stats (from purchases)\n",
    "revenue = df_buy.groupby(\"user_id\")[\"price\"].sum().rename(\"revenue\")\n",
    "avg_price_purchased = df_buy.groupby(\"user_id\")[\"price\"].mean().rename(\"avg_price_purchased\")\n",
    "\n",
    "# Recency & tenure\n",
    "tspan = df_merged.groupby(\"user_id\")[\"event_time\"].agg([\"min\",\"max\"])\n",
    "recency_days = (tspan[\"max\"].max() - tspan[\"max\"]).dt.days.rename(\"recency_days\")\n",
    "tenure_days  = (tspan[\"max\"] - tspan[\"min\"]).dt.days.clip(lower=0).rename(\"tenure_days\")\n",
    "\n",
    "# Combine into user feature table\n",
    "features = (\n",
    "    pd.DataFrame(base)\n",
    "    .join([evt, n_sessions, uniq, revenue, avg_price_purchased, recency_days, tenure_days], how=\"left\")\n",
    "    .fillna(0)\n",
    ")\n",
    "\n",
    "# Simple funnel rates\n",
    "features[\"conversion_rate\"]       = features.apply(lambda r: sdiv(r[\"n_purchase\"], r[\"n_view\"]), axis=1)\n",
    "features[\"view_to_cart_rate\"]     = features.apply(lambda r: sdiv(r[\"n_cart\"], r[\"n_view\"]), axis=1)\n",
    "features[\"cart_to_purchase_rate\"] = features.apply(lambda r: sdiv(r[\"n_purchase\"], r[\"n_cart\"]), axis=1)\n",
    "\n",
    "print(\"User feature table shape:\", features.shape)\n",
    "features.head()"
   ]
  },
  {
   "cell_type": "markdown",
   "id": "2a6126de",
   "metadata": {},
   "source": [
    "### Task 2 — Answers\n",
    "\n",
    "- **Missing values:** Typically appear in `category_code` and `brand`. We filled them with `\"unknown\"`.  \n",
    "  Critical fields `user_id` and `event_time` are required—rows missing these were dropped.\n",
    "- **Relevant features for segmentation (customer-level):**  \n",
    "  - Volume: `total_events`, `n_view`, `n_cart`, `n_purchase`, `n_sessions`  \n",
    "  - Variety: `unique_products`, `unique_categories`, `unique_brands`  \n",
    "  - Monetary: `revenue`, `avg_price_purchased`  \n",
    "  - Funnel quality: `conversion_rate`, `view_to_cart_rate`, `cart_to_purchase_rate`  \n",
    "  - Time: `recency_days`, `tenure_days`  \n",
    "- **Preprocessing:** Aggregate raw events to **per-user** features, fill missing with 0, compute rates with safe division, and keep numerics ready for scaling."
   ]
  },
  {
   "cell_type": "markdown",
   "id": "d650b8d5",
   "metadata": {},
   "source": [
    "## Task 3 — Exploratory Data Analysis"
   ]
  },
  {
   "cell_type": "code",
   "execution_count": 8,
   "id": "1cebe312",
   "metadata": {},
   "outputs": [
    {
     "data": {
      "image/png": "[encoded data removed]",
      "text/plain": [
       "<Figure size 600x400 with 1 Axes>"
      ]
     },
     "metadata": {},
     "output_type": "display_data"
    },
    {
     "data": {
      "image/png": "[encoded data removed]",
      "text/plain": [
       "<Figure size 1000x400 with 1 Axes>"
      ]
     },
     "metadata": {},
     "output_type": "display_data"
    }
   ],
   "source": [
    "# Event type distribution\n",
    "evt_counts = df_merged[\"event_type\"].value_counts()\n",
    "ax = evt_counts.plot(kind=\"bar\", figsize=(6,4), title=\"Event Type Distribution\")\n",
    "ax.set_xlabel(\"event_type\"); ax.set_ylabel(\"count\")\n",
    "plt.tight_layout(); plt.show()\n",
    "\n",
    "# Top categories\n",
    "top_cats = df_merged[\"category_code\"].value_counts().head(15)\n",
    "ax = top_cats.plot(kind=\"bar\", figsize=(10,4), title=\"Top 15 category_code by events\")\n",
    "ax.set_xlabel(\"category_code\"); ax.set_ylabel(\"count\")\n",
    "plt.tight_layout(); plt.show()\n"
   ]
  },
  {
   "cell_type": "markdown",
   "id": "d40c0b4f",
   "metadata": {},
   "source": [
    "### Task 3 — Observations (EDA)\n",
    "\n",
    "**Event funnel**\n",
    "- Strong funnel shape confirmed: **view ≫ cart ≫ purchase**.  \n",
    "- Shares of all events: **view 94.89%**, **cart 3.60%**, **purchase 1.51%** (104,335,509 / 3,955,446 / 1,659,788).\n",
    "\n",
    "**Top categories by volume (from the plot)**\n",
    "- Highest: **unknown** (uncategorized/legacy taxonomy).\n",
    "- Among known categories, leading groups are:\n",
    "  - **electronics.smartphone**\n",
    "  - **electronics.clocks**\n",
    "  - **electronics.video.tv**\n",
    "  - **computers.notebook**\n",
    "  - **electronics.audio.headphone**\n",
    "  - followed by **apparel.shoes**, **appliances.environment.vacuum**, **appliances.kitchen.refrigerators / washer**, **computers.desktop**, **auto.accessories.player**, **apparel.shoes.keds**, **furniture.bedroom.bed**, **furniture.living_room.cabinet**.\n",
    "\n",
    "**What this suggests for segments**\n",
    "- **Browsers/Researchers:** many views concentrated in electronics categories with few purchases.\n",
    "- **High-value electronics buyers:** smaller cohort driving purchases/revenue (smartphones/TVs/notebooks).\n",
    "- **Cart abandoners:** users who reach cart but don’t convert—likely sensitive to price/shipping/checkout friction.\n",
    "- **Category specialists:** users repeatedly interacting within a narrow category (e.g., smartphones or specific appliances).\n",
    "- **Mixed-interest shoppers:** activity across apparel/furniture indicates broader, non-electronics segments to target separately.\n"
   ]
  },
  {
   "cell_type": "markdown",
   "id": "4f96c886",
   "metadata": {},
   "source": [
    "## Task 4 — Feature Transformation\n",
    "\n",
    "**Questions:**\n",
    "- What is feature transformation and why is it useful here?\n",
    "- How can PCA help reduce dimensionality?\n",
    "\n",
    "**Short answer:**  \n",
    "- *Feature transformation* (e.g., scaling, PCA) standardizes magnitudes and reduces correlated noise, which is important for distance-based clustering like K-Means.  \n",
    "- **Standardization** (zero mean, unit variance) prevents large-scale features (e.g., `revenue`) from dominating.  \n",
    "- **PCA** captures the main variance directions, making clustering more stable and enabling 2D visualization.\n"
   ]
  },
  {
   "cell_type": "code",
   "execution_count": 9,
   "id": "a15f62cc",
   "metadata": {},
   "outputs": [
    {
     "name": "stdout",
     "output_type": "stream",
     "text": [
      "PCA(2) variance explained: 0.5547\n"
     ]
    },
    {
     "data": {
      "image/png": "[encoded data removed]",
      "text/plain": [
       "<Figure size 600x500 with 1 Axes>"
      ]
     },
     "metadata": {},
     "output_type": "display_data"
    }
   ],
   "source": [
    "feature_cols = [\n",
    "    \"total_events\",\"n_view\",\"n_cart\",\"n_purchase\",\"n_sessions\",\n",
    "    \"unique_products\",\"unique_categories\",\"unique_brands\",\n",
    "    \"revenue\",\"avg_price_purchased\",\n",
    "    \"conversion_rate\",\"view_to_cart_rate\",\"cart_to_purchase_rate\",\n",
    "    \"recency_days\",\"tenure_days\"\n",
    "]\n",
    "\n",
    "X = features[feature_cols].astype(float).fillna(0).values\n",
    "\n",
    "scaler = StandardScaler()\n",
    "X_scaled = scaler.fit_transform(X)\n",
    "\n",
    "pca = PCA(n_components=2, random_state=42)\n",
    "X_pca2 = pca.fit_transform(X_scaled)\n",
    "\n",
    "print(\"PCA(2) variance explained:\", round(pca.explained_variance_ratio_.sum(), 4))\n",
    "\n",
    "plt.figure(figsize=(6,5))\n",
    "plt.scatter(X_pca2[:,0], X_pca2[:,1], s=4, alpha=0.3)\n",
    "plt.title(\"Customers in PCA(2) space (unclustered)\")\n",
    "plt.xlabel(\"PC1\"); plt.ylabel(\"PC2\")\n",
    "plt.tight_layout(); plt.show()\n"
   ]
  },
  {
   "cell_type": "markdown",
   "id": "6c9b4546",
   "metadata": {},
   "source": [
    "## Task 5 — Model Selection & Clustering\n",
    "\n",
    "**Questions:**\n",
    "- How do we determine the number of clusters (k)?\n",
    "- Choose and apply a clustering algorithm.\n",
    "\n",
    "**Approach:**  \n",
    "- Try a small range of `k` (e.g., 3–7) and pick the one with the **highest silhouette score** on a sample.  \n",
    "- Use **K-Means** (simple, fast, works well with scaled features).  \n"
   ]
  },
  {
   "cell_type": "code",
   "execution_count": 13,
   "id": "087db3c8",
   "metadata": {},
   "outputs": [
    {
     "name": "stdout",
     "output_type": "stream",
     "text": [
      "k=3: silhouette=0.6172\n",
      "k=4: silhouette=0.4354\n",
      "k=5: silhouette=0.4323\n",
      "k=6: silhouette=0.3064\n",
      "k=7: silhouette=0.3314\n",
      "\n",
      "Chosen k: 3\n"
     ]
    },
    {
     "data": {
      "image/png": "[encoded data removed]",
      "text/plain": [
       "<Figure size 600x500 with 1 Axes>"
      ]
     },
     "metadata": {},
     "output_type": "display_data"
    }
   ],
   "source": [
    "# Choose k by silhouette on a sample for speed\n",
    "candidates = range(3, 8)\n",
    "best_k, best_score = None, -1.0\n",
    "\n",
    "idx = np.random.permutation(X_scaled.shape[0])[:min(30000, X_scaled.shape[0])]\n",
    "Xs = X_scaled[idx]\n",
    "\n",
    "for k in candidates:\n",
    "    km_tmp = KMeans(n_clusters=k, random_state=42, n_init=10)\n",
    "    labels_tmp = km_tmp.fit_predict(Xs)\n",
    "    score = silhouette_score(Xs, labels_tmp)\n",
    "    print(f\"k={k}: silhouette={score:.4f}\")\n",
    "    if score > best_score:\n",
    "        best_k, best_score = k, score\n",
    "\n",
    "print(\"\\nChosen k:\", best_k)\n",
    "\n",
    "# Fit final KMeans on ALL users\n",
    "kmeans = KMeans(n_clusters=best_k, random_state=42, n_init=10)\n",
    "features[\"cluster\"] = kmeans.fit_predict(X_scaled)\n",
    "\n",
    "# Visualize clusters in PCA space\n",
    "plt.figure(figsize=(6,5))\n",
    "plt.scatter(X_pca2[:,0], X_pca2[:,1], c=features[\"cluster\"], s=5, alpha=0.6)\n",
    "plt.title(f\"K-Means clusters (k={best_k}) on PCA(2)\")\n",
    "plt.xlabel(\"PC1\"); plt.ylabel(\"PC2\")\n",
    "plt.tight_layout(); plt.show()\n"
   ]
  },
  {
   "cell_type": "markdown",
   "id": "a99452fc",
   "metadata": {},
   "source": [
    "### Task 5 — Answers (Model Selection & Clustering)\n",
    "\n",
    "**k selection**\n",
    "- Tested `k = 3…7` using the **silhouette score** on a sample of users.\n",
    "- **Chosen k: 3** (highest silhouette in the tested range and clear separation in PCA(2) scatter).\n",
    "- The PCA plot (above) shows a dense core near the origin, a mid-activity wedge, and a long-tail/high-activity group—well captured by **3 clusters**.\n",
    "\n",
    "**Clustering algorithm**\n",
    "- **K-Means** on **standardized** customer features (scikit-learn).\n",
    "- **PCA** was used **only for visualization** and sanity checks, not for fitting the model.\n",
    "\n",
    "**Why K-Means**\n",
    "- Scales to tens of millions of events once aggregated to users.\n",
    "- Centroids are interpretable (average behavioral profile per segment).\n",
    "- Works well with Euclidean distances after scaling.\n",
    "\n",
    "**Notes on the PCA(2) plot**\n",
    "- Separation is mainly along **PC1** (overall activity/value) with spread on **PC2** (mix of variety/funnel quality).\n",
    "- A small number of extreme points along +PC1 indicate **high-activity/high-value** users; K=3 isolates them without overfragmenting the majority.\n"
   ]
  },
  {
   "cell_type": "markdown",
   "id": "d0ba71cc",
   "metadata": {},
   "source": [
    "## Task 6 — Interpretation & Analysis\n"
   ]
  },
  {
   "cell_type": "code",
   "execution_count": 14,
   "id": "5599513e",
   "metadata": {},
   "outputs": [
    {
     "data": {
      "application/vnd.microsoft.datawrangler.viewer.v0+json": {
       "columns": [
        {
         "name": "cluster",
         "rawType": "int32",
         "type": "integer"
        },
        {
         "name": "total_events",
         "rawType": "float64",
         "type": "float"
        },
        {
         "name": "n_view",
         "rawType": "float64",
         "type": "float"
        },
        {
         "name": "n_cart",
         "rawType": "float64",
         "type": "float"
        },
        {
         "name": "n_purchase",
         "rawType": "float64",
         "type": "float"
        },
        {
         "name": "n_sessions",
         "rawType": "float64",
         "type": "float"
        },
        {
         "name": "unique_products",
         "rawType": "float64",
         "type": "float"
        },
        {
         "name": "unique_categories",
         "rawType": "float64",
         "type": "float"
        },
        {
         "name": "unique_brands",
         "rawType": "float64",
         "type": "float"
        },
        {
         "name": "revenue",
         "rawType": "float64",
         "type": "float"
        },
        {
         "name": "avg_price_purchased",
         "rawType": "float64",
         "type": "float"
        },
        {
         "name": "conversion_rate",
         "rawType": "float64",
         "type": "float"
        },
        {
         "name": "view_to_cart_rate",
         "rawType": "float64",
         "type": "float"
        },
        {
         "name": "cart_to_purchase_rate",
         "rawType": "float64",
         "type": "float"
        },
        {
         "name": "recency_days",
         "rawType": "float64",
         "type": "float"
        },
        {
         "name": "tenure_days",
         "rawType": "float64",
         "type": "float"
        },
        {
         "name": "users",
         "rawType": "int64",
         "type": "integer"
        }
       ],
       "ref": "2dbb81c3-e846-4b50-a299-50cda0fccd21",
       "rows": [
        [
         "0",
         "4.0",
         "4.0",
         "0.0",
         "0.0",
         "2.0",
         "3.0",
         "1.0",
         "2.0",
         "0.0",
         "0.0",
         "0.0",
         "0.0",
         "0.0",
         "19.0",
         "0.0",
         "4624924"
        ],
        [
         "1",
         "18.0",
         "12.0",
         "2.0",
         "2.0",
         "4.0",
         "6.0",
         "2.0",
         "3.0",
         "531.29",
         "272.31",
         "0.167",
         "0.2",
         "0.8",
         "13.0",
         "11.0",
         "330634"
        ],
        [
         "2",
         "109.0",
         "105.0",
         "2.0",
         "0.0",
         "17.0",
         "54.0",
         "8.0",
         "21.0",
         "0.0",
         "0.0",
         "0.0",
         "0.015",
         "0.0",
         "4.0",
         "45.0",
         "361091"
        ]
       ],
       "shape": {
        "columns": 16,
        "rows": 3
       }
      },
      "text/html": [
       "<div>\n",
       "<style scoped>\n",
       "    .dataframe tbody tr th:only-of-type {\n",
       "        vertical-align: middle;\n",
       "    }\n",
       "\n",
       "    .dataframe tbody tr th {\n",
       "        vertical-align: top;\n",
       "    }\n",
       "\n",
       "    .dataframe thead th {\n",
       "        text-align: right;\n",
       "    }\n",
       "</style>\n",
       "<table border=\"1\" class=\"dataframe\">\n",
       "  <thead>\n",
       "    <tr style=\"text-align: right;\">\n",
       "      <th></th>\n",
       "      <th>total_events</th>\n",
       "      <th>n_view</th>\n",
       "      <th>n_cart</th>\n",
       "      <th>n_purchase</th>\n",
       "      <th>n_sessions</th>\n",
       "      <th>unique_products</th>\n",
       "      <th>unique_categories</th>\n",
       "      <th>unique_brands</th>\n",
       "      <th>revenue</th>\n",
       "      <th>avg_price_purchased</th>\n",
       "      <th>conversion_rate</th>\n",
       "      <th>view_to_cart_rate</th>\n",
       "      <th>cart_to_purchase_rate</th>\n",
       "      <th>recency_days</th>\n",
       "      <th>tenure_days</th>\n",
       "      <th>users</th>\n",
       "    </tr>\n",
       "    <tr>\n",
       "      <th>cluster</th>\n",
       "      <th></th>\n",
       "      <th></th>\n",
       "      <th></th>\n",
       "      <th></th>\n",
       "      <th></th>\n",
       "      <th></th>\n",
       "      <th></th>\n",
       "      <th></th>\n",
       "      <th></th>\n",
       "      <th></th>\n",
       "      <th></th>\n",
       "      <th></th>\n",
       "      <th></th>\n",
       "      <th></th>\n",
       "      <th></th>\n",
       "      <th></th>\n",
       "    </tr>\n",
       "  </thead>\n",
       "  <tbody>\n",
       "    <tr>\n",
       "      <th>0</th>\n",
       "      <td>4.0</td>\n",
       "      <td>4.0</td>\n",
       "      <td>0.0</td>\n",
       "      <td>0.0</td>\n",
       "      <td>2.0</td>\n",
       "      <td>3.0</td>\n",
       "      <td>1.0</td>\n",
       "      <td>2.0</td>\n",
       "      <td>0.00</td>\n",
       "      <td>0.00</td>\n",
       "      <td>0.000</td>\n",
       "      <td>0.000</td>\n",
       "      <td>0.0</td>\n",
       "      <td>19.0</td>\n",
       "      <td>0.0</td>\n",
       "      <td>4624924</td>\n",
       "    </tr>\n",
       "    <tr>\n",
       "      <th>1</th>\n",
       "      <td>18.0</td>\n",
       "      <td>12.0</td>\n",
       "      <td>2.0</td>\n",
       "      <td>2.0</td>\n",
       "      <td>4.0</td>\n",
       "      <td>6.0</td>\n",
       "      <td>2.0</td>\n",
       "      <td>3.0</td>\n",
       "      <td>531.29</td>\n",
       "      <td>272.31</td>\n",
       "      <td>0.167</td>\n",
       "      <td>0.200</td>\n",
       "      <td>0.8</td>\n",
       "      <td>13.0</td>\n",
       "      <td>11.0</td>\n",
       "      <td>330634</td>\n",
       "    </tr>\n",
       "    <tr>\n",
       "      <th>2</th>\n",
       "      <td>109.0</td>\n",
       "      <td>105.0</td>\n",
       "      <td>2.0</td>\n",
       "      <td>0.0</td>\n",
       "      <td>17.0</td>\n",
       "      <td>54.0</td>\n",
       "      <td>8.0</td>\n",
       "      <td>21.0</td>\n",
       "      <td>0.00</td>\n",
       "      <td>0.00</td>\n",
       "      <td>0.000</td>\n",
       "      <td>0.015</td>\n",
       "      <td>0.0</td>\n",
       "      <td>4.0</td>\n",
       "      <td>45.0</td>\n",
       "      <td>361091</td>\n",
       "    </tr>\n",
       "  </tbody>\n",
       "</table>\n",
       "</div>"
      ],
      "text/plain": [
       "         total_events  n_view  n_cart  n_purchase  n_sessions  \\\n",
       "cluster                                                         \n",
       "0                 4.0     4.0     0.0         0.0         2.0   \n",
       "1                18.0    12.0     2.0         2.0         4.0   \n",
       "2               109.0   105.0     2.0         0.0        17.0   \n",
       "\n",
       "         unique_products  unique_categories  unique_brands  revenue  \\\n",
       "cluster                                                               \n",
       "0                    3.0                1.0            2.0     0.00   \n",
       "1                    6.0                2.0            3.0   531.29   \n",
       "2                   54.0                8.0           21.0     0.00   \n",
       "\n",
       "         avg_price_purchased  conversion_rate  view_to_cart_rate  \\\n",
       "cluster                                                            \n",
       "0                       0.00            0.000              0.000   \n",
       "1                     272.31            0.167              0.200   \n",
       "2                       0.00            0.000              0.015   \n",
       "\n",
       "         cart_to_purchase_rate  recency_days  tenure_days    users  \n",
       "cluster                                                             \n",
       "0                          0.0          19.0          0.0  4624924  \n",
       "1                          0.8          13.0         11.0   330634  \n",
       "2                          0.0           4.0         45.0   361091  "
      ]
     },
     "metadata": {},
     "output_type": "display_data"
    },
    {
     "name": "stdout",
     "output_type": "stream",
     "text": [
      "Saved: segment_summary.csv, customer_segments.csv\n"
     ]
    },
    {
     "data": {
      "text/plain": [
       "{0: 'General Shoppers', 1: 'High-Value Loyalists', 2: 'General Shoppers'}"
      ]
     },
     "execution_count": 14,
     "metadata": {},
     "output_type": "execute_result"
    }
   ],
   "source": [
    "summary_cols = [\n",
    "    \"total_events\",\"n_view\",\"n_cart\",\"n_purchase\",\"n_sessions\",\n",
    "    \"unique_products\",\"unique_categories\",\"unique_brands\",\n",
    "    \"revenue\",\"avg_price_purchased\",\n",
    "    \"conversion_rate\",\"view_to_cart_rate\",\"cart_to_purchase_rate\",\n",
    "    \"recency_days\",\"tenure_days\"\n",
    "]\n",
    "\n",
    "summary = features.groupby(\"cluster\")[summary_cols].median().round(3)\n",
    "summary[\"users\"] = features.groupby(\"cluster\").size()\n",
    "summary = summary.sort_index()\n",
    "display(summary)\n",
    "\n",
    "# Save deliverables\n",
    "summary.to_csv(\"segment_summary.csv\")\n",
    "assignments = features[[\"cluster\"]].reset_index().rename(columns={\"index\":\"user_id\"})\n",
    "assignments.to_csv(\"customer_segments.csv\", index=False)\n",
    "print(\"Saved: segment_summary.csv, customer_segments.csv\")\n",
    "\n",
    "# Optional: quick heuristic labels (edit thresholds as needed)\n",
    "labels = {}\n",
    "for cl, row in summary.iterrows():\n",
    "    if row[\"revenue\"] > summary[\"revenue\"].median() and row[\"conversion_rate\"] > summary[\"conversion_rate\"].median():\n",
    "        labels[cl] = \"High-Value Loyalists\"\n",
    "    elif row[\"n_view\"] > summary[\"n_view\"].median() and row[\"conversion_rate\"] < summary[\"conversion_rate\"].median():\n",
    "        labels[cl] = \"Browsers / Researchers\"\n",
    "    elif row[\"n_cart\"] > summary[\"n_cart\"].median() and row[\"cart_to_purchase_rate\"] < summary[\"cart_to_purchase_rate\"].median():\n",
    "        labels[cl] = \"Cart Abandoners\"\n",
    "    else:\n",
    "        labels[cl] = \"General Shoppers\"\n",
    "\n",
    "labels\n"
   ]
  },
  {
   "cell_type": "markdown",
   "id": "6e57c64f",
   "metadata": {},
   "source": [
    "### Task 6 — Interpretation & Analysis\n",
    "\n",
    "**Customer coverage**\n",
    "- Total users segmented: **5,316,649**\n",
    "- Cluster shares:  \n",
    "  - **C0:** 4,624,924 (**86.99%**)  \n",
    "  - **C1:** 330,634 (**6.22%**)  \n",
    "  - **C2:** 361,091 (**6.79%**)\n",
    "\n",
    "---\n",
    "\n",
    "#### Cluster 0 — Low-activity Browsers / One-time Visitors (86.99%)\n",
    "**Typical profile (medians):**\n",
    "- events: **4** (views **4**, carts **0**, purchases **0**)  \n",
    "- sessions: **2** (≈ **2.0** events/session)  \n",
    "- revenue: **0.00**, conversion rate: **0.000**  \n",
    "- variety: **3** products, **1** category, **2** brands  \n",
    "- recency: **19** days since last event, tenure: **0** days\n",
    "\n",
    "**Interpretation:** Casual/drive-by traffic: they look but don’t progress to cart. Large, low-value segment.\n",
    "\n",
    "**Personalization ideas:**  \n",
    "- Welcome/onboarding flow; highlight **bestsellers** and **social proof**  \n",
    "- **First-purchase incentive** or free-shipping threshold  \n",
    "- Reduce friction: guest checkout, clear shipping/return info  \n",
    "- Lightweight retargeting to capture email/app install\n",
    "\n",
    "**Key metrics to track:** signup rate, first-purchase conversion, CTR on onboarding emails.\n",
    "\n",
    "---\n",
    "\n",
    "#### Cluster 1 — Active Buyers / High-Value Loyalists (6.22%)\n",
    "**Typical profile (medians):**\n",
    "- events: **18** (views **12**, carts **2**, purchases **2**)  \n",
    "- sessions: **4** (≈ **4.5** events/session)  \n",
    "- revenue: **\\$531.29**, avg price: **\\$272.31**  \n",
    "- conversion rate: **0.167**, cart→purchase: **0.8**  \n",
    "- variety: **6** products, **2** categories, **3** brands  \n",
    "- recency: **13** days, tenure: **11** days\n",
    "\n",
    "**Interpretation:** Small but very valuable cohort; healthy funnel efficiency and spend.\n",
    "\n",
    "**Personalization ideas:**  \n",
    "- **VIP perks**, early access, replenishment reminders  \n",
    "- High-margin **cross-sell / bundles**, protection plans/subscriptions  \n",
    "- Loyalty program nudges; personalized recommendations\n",
    "\n",
    "**Key metrics to track:** AOV, margin, repeat purchase rate, retention.\n",
    "\n",
    "---\n",
    "\n",
    "#### Cluster 2 — Heavy Researchers / Cart-shy Explorers (6.79%)\n",
    "**Typical profile (medians):**\n",
    "- events: **109** (views **105**, carts **2**, purchases **0**)  \n",
    "- sessions: **17** (≈ **6.41** events/session)  \n",
    "- revenue: **0.00**, conversion rate: **0.000**  \n",
    "- variety: **54** products across **8** categories, **21** brands  \n",
    "- recency: **4** days (very recent), tenure: **45** days (long)\n",
    "\n",
    "**Interpretation:** Deep comparers—frequent, recent sessions with broad category exploration, but they don’t convert. Likely **price-sensitive** or experiencing checkout friction.\n",
    "\n",
    "**Personalization ideas:**  \n",
    "- **Price-drop** and **restock alerts**, side-by-side comparisons  \n",
    "- Prominent **reviews/ratings** and trust badges  \n",
    "- Limited-time coupon or **free-shipping** threshold testing  \n",
    "- On-site assistants (FAQ/chat) for objections (warranty, returns)\n",
    "\n",
    "**Key metrics to track:** view→cart uplift, cart→purchase uplift, coupon ROI, checkout drop-off.\n",
    "\n",
    "---\n",
    "\n",
    "### How to use these segments for personalized marketing\n",
    "- **Targeting & creatives:** tailor content and offers per segment (e.g., guides for Browsers, bundles for Loyalists, price nudges for Researchers).  \n",
    "- **Cadence:** lower frequency for C0 (avoid fatigue), higher for C2 while interest is fresh; lifecycle messaging for C1.  \n",
    "- **A/B tests:** run per-segment experiments on incentives, recommendations, and checkout UX.  \n",
    "- **Success metrics (by segment):** CTR, **conversion rate**, **AOV**, **margin**, **repeat purchase / retention**, and **time-to-first-purchase**.\n",
    "\n",
    "> CSV artifacts saved: `customer_segments.csv` (user_id → cluster) and `segment_summary.csv` (per-cluster medians + user counts).\n"
   ]
  }
 ],
 "metadata": {
  "kernelspec": {
   "display_name": "Python 3",
   "language": "python",
   "name": "python3"
  },
  "language_info": {
   "codemirror_mode": {
    "name": "ipython",
    "version": 3
   },
   "file_extension": ".py",
   "mimetype": "text/x-python",
   "name": "python",
   "nbconvert_exporter": "python",
   "pygments_lexer": "ipython3",
   "version": "3.12.3"
  }
 },
 "nbformat": 4,
 "nbformat_minor": 5
}
